{
 "cells": [
  {
   "cell_type": "markdown",
   "metadata": {},
   "source": [
    "# Problem Set 5\n",
    "\n",
    "See [Introduction](https://datascience.quantecon.org/../pandas/intro.html) and [Basic Functionality](https://datascience.quantecon.org/../pandas/basics.html)"
   ]
  },
  {
   "cell_type": "code",
   "execution_count": 1,
   "metadata": {
    "hide-output": false,
    "tags": []
   },
   "outputs": [],
   "source": [
    "import pandas as pd\n",
    "import numpy as np\n",
    "\n",
    "%matplotlib inline"
   ]
  },
  {
   "cell_type": "markdown",
   "metadata": {},
   "source": [
    "## Setup\n",
    "\n",
    "These questions use data on daily Covid cases in health regions in Canada from the [COVID-19 Canada Open Data Working Group](https://github.com/ccodwg/Covid19Canada)."
   ]
  },
  {
   "cell_type": "code",
   "execution_count": 3,
   "metadata": {
    "hide-output": false
   },
   "outputs": [],
   "source": [
    "url = \"https://github.com/ccodwg/Covid19Canada/raw/master/timeseries_hr/cases_timeseries_hr.csv\"\n",
    "try : # only download if cases_raw has not already been defined \n",
    "    cases_raw\n",
    "except:\n",
    "    cases_raw = pd.read_csv(url, parse_dates=[\"date_report\"])\n",
    "\n",
    "try :\n",
    "    hr_map \n",
    "except: \n",
    "    hr_map = pd.read_csv(\"https://github.com/ccodwg/Covid19Canada/raw/master/other/hr_map.csv\")"
   ]
  },
  {
   "cell_type": "markdown",
   "metadata": {},
   "source": [
    "Now, we create cases per 100,000 and then do the same manipulation as in the pandas basics lecture. We will focus on BC health regions in this problem set."
   ]
  },
  {
   "cell_type": "code",
   "execution_count": 4,
   "metadata": {},
   "outputs": [
    {
     "data": {
      "text/html": [
       "<div>\n",
       "<style scoped>\n",
       "    .dataframe tbody tr th:only-of-type {\n",
       "        vertical-align: middle;\n",
       "    }\n",
       "\n",
       "    .dataframe tbody tr th {\n",
       "        vertical-align: top;\n",
       "    }\n",
       "\n",
       "    .dataframe thead th {\n",
       "        text-align: right;\n",
       "    }\n",
       "</style>\n",
       "<table border=\"1\" class=\"dataframe\">\n",
       "  <thead>\n",
       "    <tr style=\"text-align: right;\">\n",
       "      <th></th>\n",
       "      <th>province</th>\n",
       "      <th>health_region</th>\n",
       "      <th>date_report</th>\n",
       "      <th>cases</th>\n",
       "      <th>cumulative_cases</th>\n",
       "    </tr>\n",
       "  </thead>\n",
       "  <tbody>\n",
       "    <tr>\n",
       "      <th>0</th>\n",
       "      <td>Alberta</td>\n",
       "      <td>Calgary</td>\n",
       "      <td>2020-01-25</td>\n",
       "      <td>0</td>\n",
       "      <td>0</td>\n",
       "    </tr>\n",
       "    <tr>\n",
       "      <th>1</th>\n",
       "      <td>Alberta</td>\n",
       "      <td>Calgary</td>\n",
       "      <td>2020-01-26</td>\n",
       "      <td>0</td>\n",
       "      <td>0</td>\n",
       "    </tr>\n",
       "    <tr>\n",
       "      <th>2</th>\n",
       "      <td>Alberta</td>\n",
       "      <td>Calgary</td>\n",
       "      <td>2020-01-27</td>\n",
       "      <td>0</td>\n",
       "      <td>0</td>\n",
       "    </tr>\n",
       "    <tr>\n",
       "      <th>3</th>\n",
       "      <td>Alberta</td>\n",
       "      <td>Calgary</td>\n",
       "      <td>2020-01-28</td>\n",
       "      <td>0</td>\n",
       "      <td>0</td>\n",
       "    </tr>\n",
       "    <tr>\n",
       "      <th>4</th>\n",
       "      <td>Alberta</td>\n",
       "      <td>Calgary</td>\n",
       "      <td>2020-01-29</td>\n",
       "      <td>0</td>\n",
       "      <td>0</td>\n",
       "    </tr>\n",
       "    <tr>\n",
       "      <th>...</th>\n",
       "      <td>...</td>\n",
       "      <td>...</td>\n",
       "      <td>...</td>\n",
       "      <td>...</td>\n",
       "      <td>...</td>\n",
       "    </tr>\n",
       "    <tr>\n",
       "      <th>84655</th>\n",
       "      <td>Yukon</td>\n",
       "      <td>Yukon</td>\n",
       "      <td>2022-04-29</td>\n",
       "      <td>9</td>\n",
       "      <td>4196</td>\n",
       "    </tr>\n",
       "    <tr>\n",
       "      <th>84656</th>\n",
       "      <td>Yukon</td>\n",
       "      <td>Yukon</td>\n",
       "      <td>2022-04-30</td>\n",
       "      <td>0</td>\n",
       "      <td>4196</td>\n",
       "    </tr>\n",
       "    <tr>\n",
       "      <th>84657</th>\n",
       "      <td>Yukon</td>\n",
       "      <td>Yukon</td>\n",
       "      <td>2022-01-05</td>\n",
       "      <td>0</td>\n",
       "      <td>4196</td>\n",
       "    </tr>\n",
       "    <tr>\n",
       "      <th>84658</th>\n",
       "      <td>Yukon</td>\n",
       "      <td>Yukon</td>\n",
       "      <td>2022-02-05</td>\n",
       "      <td>21</td>\n",
       "      <td>4217</td>\n",
       "    </tr>\n",
       "    <tr>\n",
       "      <th>84659</th>\n",
       "      <td>Yukon</td>\n",
       "      <td>Yukon</td>\n",
       "      <td>2022-03-05</td>\n",
       "      <td>9</td>\n",
       "      <td>4226</td>\n",
       "    </tr>\n",
       "  </tbody>\n",
       "</table>\n",
       "<p>84660 rows × 5 columns</p>\n",
       "</div>"
      ],
      "text/plain": [
       "      province health_region date_report  cases  cumulative_cases\n",
       "0      Alberta       Calgary  2020-01-25      0                 0\n",
       "1      Alberta       Calgary  2020-01-26      0                 0\n",
       "2      Alberta       Calgary  2020-01-27      0                 0\n",
       "3      Alberta       Calgary  2020-01-28      0                 0\n",
       "4      Alberta       Calgary  2020-01-29      0                 0\n",
       "...        ...           ...         ...    ...               ...\n",
       "84655    Yukon         Yukon  2022-04-29      9              4196\n",
       "84656    Yukon         Yukon  2022-04-30      0              4196\n",
       "84657    Yukon         Yukon  2022-01-05      0              4196\n",
       "84658    Yukon         Yukon  2022-02-05     21              4217\n",
       "84659    Yukon         Yukon  2022-03-05      9              4226\n",
       "\n",
       "[84660 rows x 5 columns]"
      ]
     },
     "execution_count": 4,
     "metadata": {},
     "output_type": "execute_result"
    }
   ],
   "source": [
    "cases_raw"
   ]
  },
  {
   "cell_type": "code",
   "execution_count": 5,
   "metadata": {},
   "outputs": [
    {
     "data": {
      "text/html": [
       "<div>\n",
       "<style scoped>\n",
       "    .dataframe tbody tr th:only-of-type {\n",
       "        vertical-align: middle;\n",
       "    }\n",
       "\n",
       "    .dataframe tbody tr th {\n",
       "        vertical-align: top;\n",
       "    }\n",
       "\n",
       "    .dataframe thead th {\n",
       "        text-align: right;\n",
       "    }\n",
       "</style>\n",
       "<table border=\"1\" class=\"dataframe\">\n",
       "  <thead>\n",
       "    <tr style=\"text-align: right;\">\n",
       "      <th>health_region</th>\n",
       "      <th>Fraser</th>\n",
       "      <th>Interior</th>\n",
       "      <th>Island</th>\n",
       "      <th>Northern</th>\n",
       "      <th>Vancouver Coastal</th>\n",
       "    </tr>\n",
       "    <tr>\n",
       "      <th>date_report</th>\n",
       "      <th></th>\n",
       "      <th></th>\n",
       "      <th></th>\n",
       "      <th></th>\n",
       "      <th></th>\n",
       "    </tr>\n",
       "  </thead>\n",
       "  <tbody>\n",
       "    <tr>\n",
       "      <th>2021-01-01</th>\n",
       "      <td>0.000000</td>\n",
       "      <td>0.000000</td>\n",
       "      <td>0.000000</td>\n",
       "      <td>0.000000</td>\n",
       "      <td>0.000000</td>\n",
       "    </tr>\n",
       "    <tr>\n",
       "      <th>2021-01-02</th>\n",
       "      <td>25.701861</td>\n",
       "      <td>24.589675</td>\n",
       "      <td>9.101332</td>\n",
       "      <td>33.213897</td>\n",
       "      <td>24.191511</td>\n",
       "    </tr>\n",
       "    <tr>\n",
       "      <th>2021-01-03</th>\n",
       "      <td>45.464436</td>\n",
       "      <td>9.935222</td>\n",
       "      <td>10.519722</td>\n",
       "      <td>39.252788</td>\n",
       "      <td>26.815675</td>\n",
       "    </tr>\n",
       "    <tr>\n",
       "      <th>2021-01-04</th>\n",
       "      <td>21.129137</td>\n",
       "      <td>7.203036</td>\n",
       "      <td>6.500952</td>\n",
       "      <td>17.110190</td>\n",
       "      <td>21.813363</td>\n",
       "    </tr>\n",
       "    <tr>\n",
       "      <th>2021-01-05</th>\n",
       "      <td>0.000000</td>\n",
       "      <td>0.000000</td>\n",
       "      <td>0.000000</td>\n",
       "      <td>0.000000</td>\n",
       "      <td>0.000000</td>\n",
       "    </tr>\n",
       "    <tr>\n",
       "      <th>...</th>\n",
       "      <td>...</td>\n",
       "      <td>...</td>\n",
       "      <td>...</td>\n",
       "      <td>...</td>\n",
       "      <td>...</td>\n",
       "    </tr>\n",
       "    <tr>\n",
       "      <th>2021-12-27</th>\n",
       "      <td>42.153154</td>\n",
       "      <td>36.387752</td>\n",
       "      <td>24.585417</td>\n",
       "      <td>17.781177</td>\n",
       "      <td>28.865804</td>\n",
       "    </tr>\n",
       "    <tr>\n",
       "      <th>2021-12-28</th>\n",
       "      <td>41.995474</td>\n",
       "      <td>33.282995</td>\n",
       "      <td>33.686749</td>\n",
       "      <td>13.755250</td>\n",
       "      <td>32.966060</td>\n",
       "    </tr>\n",
       "    <tr>\n",
       "      <th>2021-12-29</th>\n",
       "      <td>83.623027</td>\n",
       "      <td>46.447164</td>\n",
       "      <td>36.523528</td>\n",
       "      <td>33.213897</td>\n",
       "      <td>46.824926</td>\n",
       "    </tr>\n",
       "    <tr>\n",
       "      <th>2021-12-30</th>\n",
       "      <td>121.886737</td>\n",
       "      <td>62.219330</td>\n",
       "      <td>54.371594</td>\n",
       "      <td>40.930258</td>\n",
       "      <td>80.119006</td>\n",
       "    </tr>\n",
       "    <tr>\n",
       "      <th>2021-12-31</th>\n",
       "      <td>102.176722</td>\n",
       "      <td>39.740889</td>\n",
       "      <td>51.298417</td>\n",
       "      <td>43.278715</td>\n",
       "      <td>79.134944</td>\n",
       "    </tr>\n",
       "  </tbody>\n",
       "</table>\n",
       "<p>365 rows × 5 columns</p>\n",
       "</div>"
      ],
      "text/plain": [
       "health_region      Fraser   Interior     Island   Northern  Vancouver Coastal\n",
       "date_report                                                                  \n",
       "2021-01-01       0.000000   0.000000   0.000000   0.000000           0.000000\n",
       "2021-01-02      25.701861  24.589675   9.101332  33.213897          24.191511\n",
       "2021-01-03      45.464436   9.935222  10.519722  39.252788          26.815675\n",
       "2021-01-04      21.129137   7.203036   6.500952  17.110190          21.813363\n",
       "2021-01-05       0.000000   0.000000   0.000000   0.000000           0.000000\n",
       "...                   ...        ...        ...        ...                ...\n",
       "2021-12-27      42.153154  36.387752  24.585417  17.781177          28.865804\n",
       "2021-12-28      41.995474  33.282995  33.686749  13.755250          32.966060\n",
       "2021-12-29      83.623027  46.447164  36.523528  33.213897          46.824926\n",
       "2021-12-30     121.886737  62.219330  54.371594  40.930258          80.119006\n",
       "2021-12-31     102.176722  39.740889  51.298417  43.278715          79.134944\n",
       "\n",
       "[365 rows x 5 columns]"
      ]
     },
     "execution_count": 5,
     "metadata": {},
     "output_type": "execute_result"
    }
   ],
   "source": [
    "cases_bc = cases_raw.loc[(cases_raw['province'] == 'BC') &  \n",
    "                         (cases_raw['date_report'] < pd.to_datetime('2022-01-01')) &\n",
    "                         (cases_raw['date_report'] >= pd.to_datetime('2021-01-01')),:] # Take the data for BC in year 2021 only\n",
    "# create cases per 100,000\n",
    "cases_bc = cases_bc.merge(hr_map[['province','health_region','pop']],\n",
    "                          on=['province','health_region'],\n",
    "                          how='left')\n",
    "cases_bc['cases100k'] = cases_bc['cases'] / cases_bc['pop'] * 100_000\n",
    "cases_bc = ( \n",
    "    cases_bc.reset_index()\n",
    "    .pivot_table(index='date_report',columns='health_region', values='cases100k')\n",
    ")    \n",
    "cases_bc"
   ]
  },
  {
   "cell_type": "markdown",
   "metadata": {},
   "source": [
    "The resulting `cases_bc` DataFrame contains Covid cases per 100,000 population for each BC health region and day, in 2021."
   ]
  },
  {
   "cell_type": "markdown",
   "metadata": {},
   "source": [
    "## Question 1\n",
    "\n",
    "At each date, what is the minimum number of cases per 100,000 across health regions?"
   ]
  },
  {
   "cell_type": "code",
   "execution_count": 7,
   "metadata": {
    "hide-output": false
   },
   "outputs": [
    {
     "data": {
      "text/plain": [
       "date_report\n",
       "2021-01-01     0.000000\n",
       "2021-01-02     9.101332\n",
       "2021-01-03     9.935222\n",
       "2021-01-04     6.500952\n",
       "2021-01-05     0.000000\n",
       "                ...    \n",
       "2021-12-27    17.781177\n",
       "2021-12-28    13.755250\n",
       "2021-12-29    33.213897\n",
       "2021-12-30    40.930258\n",
       "2021-12-31    39.740889\n",
       "Length: 365, dtype: float64"
      ]
     },
     "execution_count": 7,
     "metadata": {},
     "output_type": "execute_result"
    }
   ],
   "source": [
    "# Your code here\n",
    "cases_bc.agg(min, axis=1)\n",
    "#cases_bc.agg(min, axis=1).plot()"
   ]
  },
  {
   "cell_type": "markdown",
   "metadata": {},
   "source": [
    "What was the (daily) median number of cases per 100,000 in each health region?"
   ]
  },
  {
   "cell_type": "code",
   "execution_count": 12,
   "metadata": {
    "hide-output": false
   },
   "outputs": [
    {
     "data": {
      "text/plain": [
       "health_region\n",
       "Fraser               8.567287\n",
       "Interior             6.582085\n",
       "Island               2.482181\n",
       "Northern             8.051854\n",
       "Vancouver Coastal    5.576348\n",
       "dtype: float64"
      ]
     },
     "execution_count": 12,
     "metadata": {},
     "output_type": "execute_result"
    }
   ],
   "source": [
    "# Your code here\n",
    "cases_bc.agg(np.median, axis=0)"
   ]
  },
  {
   "cell_type": "markdown",
   "metadata": {},
   "source": [
    "What was the maximum number of cases per 100,000 across health regions? In what health region did it happen? On what date was this achieved?\n",
    "\n",
    "- Hint 1: What Python type (not `dtype`) is returned by a reduction?  \n",
    "- Hint 2: Read documentation for the method `idxmax`.  "
   ]
  },
  {
   "cell_type": "code",
   "execution_count": 13,
   "metadata": {
    "hide-output": false
   },
   "outputs": [
    {
     "data": {
      "text/plain": [
       "health_region\n",
       "Fraser               121.886737\n",
       "Interior             104.071454\n",
       "Island                54.371594\n",
       "Northern             136.210529\n",
       "Vancouver Coastal     80.119006\n",
       "dtype: float64"
      ]
     },
     "execution_count": 13,
     "metadata": {},
     "output_type": "execute_result"
    }
   ],
   "source": [
    "# Your code here\n",
    "cases_bc.agg(max)"
   ]
  },
  {
   "cell_type": "code",
   "execution_count": 14,
   "metadata": {},
   "outputs": [
    {
     "data": {
      "text/plain": [
       "health_region\n",
       "Fraser              2021-12-30\n",
       "Interior            2021-07-09\n",
       "Island              2021-12-30\n",
       "Northern            2021-10-18\n",
       "Vancouver Coastal   2021-12-30\n",
       "dtype: datetime64[ns]"
      ]
     },
     "execution_count": 14,
     "metadata": {},
     "output_type": "execute_result"
    }
   ],
   "source": [
    "cases_bc.idxmax()"
   ]
  },
  {
   "cell_type": "markdown",
   "metadata": {},
   "source": [
    "- maximum number of cases of 121.886737 was achieved at Fraser on 2021-12-30\n",
    "- maximum number of cases of 104.071454 was achieved at Interior on 2021-07-09\n",
    "- maximum number of cases of 54.371594 was achieved at Island on 2021-12-30\n",
    "- maximum number of cases of 136.210529 was achieved at Northern on 2021-10-18\n",
    "- maximum number of cases of 80.119006 was achieved at Vancouver Coastal on 2021-12-30"
   ]
  },
  {
   "cell_type": "markdown",
   "metadata": {},
   "source": [
    "Classify each health region as high or low volatility based on whether the variance of their cases per 100,000 is above or below 100."
   ]
  },
  {
   "cell_type": "code",
   "execution_count": 15,
   "metadata": {},
   "outputs": [
    {
     "data": {
      "text/plain": [
       "health_region\n",
       "Fraser               high\n",
       "Interior             high\n",
       "Island                low\n",
       "Northern             high\n",
       "Vancouver Coastal    high\n",
       "dtype: object"
      ]
     },
     "execution_count": 15,
     "metadata": {},
     "output_type": "execute_result"
    }
   ],
   "source": [
    "# Your code here\n",
    "def classifyvar(x, benchmark=100):\n",
    "    if (x > benchmark) :\n",
    "        return(\"high\") \n",
    "    else :\n",
    "        return(\"low\")\n",
    "\n",
    "cases_bc.var().apply(classifyvar)"
   ]
  },
  {
   "cell_type": "markdown",
   "metadata": {
    "tags": []
   },
   "source": [
    "## Question 2\n",
    "\n",
    "Imagine that we want to determine whether cases per 100,000 was High (> 10),\n",
    "Low (0 < x <= 10), or None (x = 0) for each health region and each day.\n",
    "\n",
    "Write a Python function that takes a single number as an input and\n",
    "outputs a single string which notes whether that number is High, Low, or None."
   ]
  },
  {
   "cell_type": "code",
   "execution_count": 16,
   "metadata": {
    "hide-output": false
   },
   "outputs": [],
   "source": [
    "# Your code here\n",
    "def classifycases(x):\n",
    "    if (x > 10):\n",
    "        return(\"High\")\n",
    "    elif (x > 0):\n",
    "        return(\"Low\")\n",
    "    else:\n",
    "        return(\"None\")   "
   ]
  },
  {
   "cell_type": "markdown",
   "metadata": {},
   "source": [
    "Pass your function to either `apply` or `applymap` and save the result in a new DataFrame called `case_bins`."
   ]
  },
  {
   "cell_type": "code",
   "execution_count": 17,
   "metadata": {
    "hide-output": false
   },
   "outputs": [
    {
     "name": "stdout",
     "output_type": "stream",
     "text": [
      "health_region Fraser Interior Island Northern Vancouver Coastal\n",
      "date_report                                                    \n",
      "2021-01-01      None     None   None     None              None\n",
      "2021-01-02      High     High    Low     High              High\n",
      "2021-01-03      High      Low   High     High              High\n",
      "2021-01-04      High      Low    Low     High              High\n",
      "2021-01-05      None     None   None     None              None\n",
      "...              ...      ...    ...      ...               ...\n",
      "2021-12-27      High     High   High     High              High\n",
      "2021-12-28      High     High   High     High              High\n",
      "2021-12-29      High     High   High     High              High\n",
      "2021-12-30      High     High   High     High              High\n",
      "2021-12-31      High     High   High     High              High\n",
      "\n",
      "[365 rows x 5 columns]\n"
     ]
    }
   ],
   "source": [
    "# Your code here\n",
    "case_bins=cases_bc.applymap(classifycases)\n",
    "print(case_bins)"
   ]
  },
  {
   "cell_type": "markdown",
   "metadata": {},
   "source": [
    "## Question 3\n",
    "\n",
    "This exercise has multiple parts:\n",
    "\n",
    "Use another transformation on `case_bins` to count how many times each health region had each of the three classifications.\n",
    "\n",
    "- Hint 1: Will you need to use `apply` or `applymap` for transformation?  \n",
    "- Hint 2: `value_counts`"
   ]
  },
  {
   "cell_type": "code",
   "execution_count": 18,
   "metadata": {
    "hide-output": false
   },
   "outputs": [
    {
     "name": "stdout",
     "output_type": "stream",
     "text": [
      "health_region  Fraser  Interior  Island  Northern  Vancouver Coastal\n",
      "None              110       113     113       119                111\n",
      "Low                84       108     194        75                137\n",
      "High              171       144      58       171                117\n"
     ]
    }
   ],
   "source": [
    "# Your code here\n",
    "case_bins1 = case_bins.apply(pd.value_counts).loc[['None','Low','High'],:]\n",
    "print(case_bins1)"
   ]
  },
  {
   "cell_type": "markdown",
   "metadata": {},
   "source": [
    "Construct a horizontal bar chart (you can refer to an example of horizontal bar chart [here](https://www150.statcan.gc.ca/edu/power-pouvoir/c-g/c-g05-2-3-eng.png)) to detail the occurrences of each level.\n",
    "Use one bar per health region and classification for 15 total bars."
   ]
  },
  {
   "cell_type": "code",
   "execution_count": 19,
   "metadata": {
    "hide-output": false
   },
   "outputs": [
    {
     "data": {
      "text/plain": [
       "<matplotlib.axes._subplots.AxesSubplot at 0x7f8365305990>"
      ]
     },
     "execution_count": 19,
     "metadata": {},
     "output_type": "execute_result"
    },
    {
     "data": {
      "image/png": "[encoded data removed]",
      "text/plain": [
       "<Figure size 432x288 with 1 Axes>"
      ]
     },
     "metadata": {
      "needs_background": "light"
     },
     "output_type": "display_data"
    }
   ],
   "source": [
    "# Your code here\n",
    "case_bins1.plot(kind=\"barh\")"
   ]
  },
  {
   "cell_type": "markdown",
   "metadata": {},
   "source": [
    "## Question 4\n",
    "\n",
    "For a single health region of your choice, determine the mean\n",
    "cases per 100,000 during “High” and “Low” case times.\n",
    "(recall your `case_bins` DataFrame from the exercise above)"
   ]
  },
  {
   "cell_type": "code",
   "execution_count": 20,
   "metadata": {
    "hide-output": false
   },
   "outputs": [
    {
     "name": "stdout",
     "output_type": "stream",
     "text": [
      "Average cases in Vancouver Coastal when cases are High are 23.868397280368058\n",
      "Average cases in Vancouver Coastal when cases are Low are 5.25431369097927\n"
     ]
    }
   ],
   "source": [
    "# Your code here\n",
    "cases_bins = cases_bc.applymap(classifycases)\n",
    "region = 'Vancouver Coastal'\n",
    "for level in ['High', 'Low'] :\n",
    "    print(f\"Average cases in {region} when cases are {level} are {cases_bc.loc[cases_bins[region]==level,region].mean()}\")"
   ]
  },
  {
   "cell_type": "markdown",
   "metadata": {},
   "source": [
    "Which health regions in our sample performs the best during “bad times\" ? To\n",
    "determine this, compute each health region’s mean daily cases per 100,000 where the daily cases per 100,000 is greater than 10 (i.e., in the \"high\"\n",
    "category as defined above)."
   ]
  },
  {
   "cell_type": "code",
   "execution_count": 21,
   "metadata": {
    "hide-output": false
   },
   "outputs": [
    {
     "name": "stdout",
     "output_type": "stream",
     "text": [
      " mean daily cases in Fraser during bad times are 25.834643784274338\n",
      " mean daily cases in Interior during bad times are 25.33222969571726\n",
      " mean daily cases in Island during bad times are 20.9212439275203\n",
      " mean daily cases in Northern during bad times are 31.457949820626528\n",
      " mean daily cases in Vancouver Coastal during bad times are 23.868397280368058\n",
      "health_region\n",
      "Fraser               25.834644\n",
      "Interior             25.332230\n",
      "Island               20.921244\n",
      "Northern             31.457950\n",
      "Vancouver Coastal    23.868397\n",
      "dtype: float64\n"
     ]
    }
   ],
   "source": [
    "# Your code here\n",
    "for region in ['Fraser',  'Interior',  'Island',  'Northern',  'Vancouver Coastal'] :\n",
    "    print(f\" mean daily cases in {region} during bad times are {cases_bc.loc[cases_bins[region] =='High',region].mean()}\")\n",
    "\n",
    "# or\n",
    "case_bins2 = cases_bc.apply(lambda x: x[x>10].mean()) \n",
    "print(case_bins2)"
   ]
  },
  {
   "cell_type": "markdown",
   "metadata": {},
   "source": [
    "Island Health peforms the best during bad times. Its average cases during bad times is 20.921244, smallest among all health regions"
   ]
  },
  {
   "cell_type": "code",
   "execution_count": null,
   "metadata": {},
   "outputs": [],
   "source": []
  }
 ],
 "metadata": {
  "date": 1633586292.4168322,
  "filename": "problem_set_5.md",
  "interpreter": {
   "hash": "767d51c1340bd893661ea55ea3124f6de3c7a262a8b4abca0554b478b1e2ff90"
  },
  "kernelspec": {
   "display_name": "Python 3",
   "language": "python",
   "name": "python3"
  },
  "language_info": {
   "codemirror_mode": {
    "name": "ipython",
    "version": 3
   },
   "file_extension": ".py",
   "mimetype": "text/x-python",
   "name": "python",
   "nbconvert_exporter": "python",
   "pygments_lexer": "ipython3",
   "version": "3.7.6"
  },
  "title": "Problem Set 5",
  "varInspector": {
   "cols": {
    "lenName": 16,
    "lenType": 16,
    "lenVar": 40
   },
   "kernels_config": {
    "python": {
     "delete_cmd_postfix": "",
     "delete_cmd_prefix": "del ",
     "library": "var_list.py",
     "varRefreshCmd": "print(var_dic_list())"
    },
    "r": {
     "delete_cmd_postfix": ") ",
     "delete_cmd_prefix": "rm(",
     "library": "var_list.r",
     "varRefreshCmd": "cat(var_dic_list()) "
    }
   },
   "types_to_exclude": [
    "module",
    "function",
    "builtin_function_or_method",
    "instance",
    "_Feature"
   ],
   "window_display": false
  }
 },
 "nbformat": 4,
 "nbformat_minor": 5
}
