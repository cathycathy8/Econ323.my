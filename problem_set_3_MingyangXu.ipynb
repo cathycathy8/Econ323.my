{
 "cells": [
  {
   "cell_type": "markdown",
   "metadata": {},
   "source": [
    "# Problem Set 3\n",
    "\n",
    "Related lectures: [Collections](https://datascience.quantecon.org/../python_fundamentals/collections.html) and [Control Flow](https://datascience.quantecon.org/../python_fundamentals/control_flow.html). Feel free to apply the linear algebra in Numpy arrays if you find it helpful."
   ]
  },
  {
   "cell_type": "markdown",
   "metadata": {},
   "source": [
    "## Question 1-3\n",
    "\n",
    "Consider a bond that pays a \\$500 coupon once every quarter.\n",
    "\n",
    "It pays in March, June, September, and December.\n",
    "\n",
    "It promises to do so for 10 years after you purchase it, from January 2022 to December 2031.\n",
    "\n",
    "You discount the future at the rate of $r = 0.005$ **per month**."
   ]
  },
  {
   "cell_type": "markdown",
   "metadata": {},
   "source": [
    "### Question 1\n",
    "\n",
    "How much do you value the asset in January 2022?"
   ]
  },
  {
   "cell_type": "code",
   "execution_count": 3,
   "metadata": {
    "hide-output": false
   },
   "outputs": [
    {
     "name": "stdout",
     "output_type": "stream",
     "text": [
      "15012.117742606613\n",
      "15012.117742606615\n"
     ]
    }
   ],
   "source": [
    "# Your code goes here\n",
    "coupon = 500\n",
    "r = 0.005\n",
    "present_value = sum(coupon/(1+r)**(3*t+2) for t in range(40)) # range(3,121,3)\n",
    "print(present_value)\n",
    "\n",
    "# alternative approach   \n",
    "import datetime  \n",
    "paymentmonths = [3,6,9,12]\n",
    "coupon = 500\n",
    "r1 = 0.005 \n",
    "begin = datetime.date(2022,1,1)\n",
    "end = datetime.date(2031,12,1)\n",
    "\n",
    "\n",
    "def incmonth(t, inc = 1) : \n",
    "    '''Add `inc` months to the datetime `t`'''\n",
    "    newmonth = ((t.month - 1 + inc) % 12) + 1\n",
    "    newyear = t.year + int((t.month - 1 + inc) / 12)\n",
    "    return(datetime.date(newyear, newmonth, t.day))\n",
    "\n",
    "def presentvalue(coupon, r1, begin, end, paymentmonths):\n",
    "    '''Calculate the net present value of the bond with `payment` in \n",
    "    months `paymentmonths` from `begin` until `end` discounted by `r1`'''\n",
    "    t = begin\n",
    "    PV = 0\n",
    "    discountfactor = 1\n",
    "    while t<=end :\n",
    "        if (t.month in paymentmonths) :\n",
    "            PV += coupon * discountfactor\n",
    "        if isinstance(r1, dict) :\n",
    "            discountfactor /= (1+r1[t.year])\n",
    "        else :\n",
    "            discountfactor /= (1+r1)            \n",
    "        t = incmonth(t)    \n",
    "    return(PV)\n",
    "while t <= datetime.date(2031,12,1) :\n",
    "    if (t.month in paymentmonths):   #loop month\n",
    "        PV += coupon*discountfactor\n",
    "    discountfactor *= 1/(1+ratedict[t.year])  #loop year\n",
    "    t = incmonth(t)\n",
    "PV\n",
    "\n",
    "PV = presentvalue(coupon, r1, begin, end, paymentmonths)\n",
    "print(PV)\n"
   ]
  },
  {
   "cell_type": "markdown",
   "metadata": {},
   "source": [
    "### Question 2\n",
    "\n",
    "Consider a different asset that pays a lump sum at its expiration date rather than a quarterly coupon of \\$500 dollars.\n",
    "\n",
    "How much would this asset need to pay on December 2031 for the two assets to be equally valued?"
   ]
  },
  {
   "cell_type": "code",
   "execution_count": null,
   "metadata": {
    "hide-output": false
   },
   "outputs": [],
   "source": [
    "# Your code goes here\n",
    "print(present_value*(1+r)**(3*39+2))\n",
    "\n",
    "# alternative approach\n",
    "def monthdiff(t_begin,t_end) :\n",
    "    \"\"\" \n",
    "    calculate the number of months between `t_begin` and `t_end`   \n",
    "    \"\"\"\n",
    "    return(12*(t_end.year-t_begin.year) + t_end.month-t_begin.month)\n",
    "\n",
    "print(PV*(1+r1)**monthdiff(begin, end))"
   ]
  },
  {
   "cell_type": "markdown",
   "metadata": {},
   "source": [
    "### Question 3\n",
    "\n",
    "If you already knew that your discount rate would change annually according to the\n",
    "table below, at what price would you value the quarterly asset (from the main text) in January 2022?\n",
    "\n",
    "*Hint*: There are various ways to do this… One way might include a zipped loop for years and a\n",
    "second loop for months.\n",
    "\n",
    "*More Challenging*: Can you create the list of interest rates without calculating each year individually?\n",
    "\n",
    "|Year|Discount Rate|\n",
    "|:------------------------------------------------:|:------------------------------------------------:|\n",
    "|2022|0.005|\n",
    "|2023|0.0047|\n",
    "|2024|0.0044|\n",
    "|2025|0.0041|\n",
    "|2026|0.0038|\n",
    "|2027|0.0035|\n",
    "|2028|0.0032|\n",
    "|2029|0.0029|\n",
    "|2030|0.0026|\n",
    "|2031|0.0023|\n",
    "\n",
    "Hint: create appropriate collections typing from the data directly in the code.  You cannot parse the\n",
    "text table directly."
   ]
  },
  {
   "cell_type": "code",
   "execution_count": 4,
   "metadata": {
    "hide-output": false
   },
   "outputs": [
    {
     "name": "stdout",
     "output_type": "stream",
     "text": [
      "15702.427436864153\n",
      "[0.005, 0.0047, 0.0044, 0.0041, 0.0038, 0.0035, 0.0031999999999999997, 0.0029, 0.0026, 0.0023]\n"
     ]
    }
   ],
   "source": [
    "# Your code goes here\n",
    "\n",
    "def nextmonth(t, inc = 1) : \n",
    "    \"\"\"\n",
    "    Add `inc` months to the datetime `t`.\n",
    "    \"\"\"\n",
    "    newmonth = ((t.month - 1 + inc) % 12) + 1\n",
    "    newyear = t.year + int((t.month - 1 + inc) / 12)\n",
    "    return(datetime.date(newyear, newmonth, t.day))\n",
    "\n",
    "## TA: Your answer is slightly off but your generla approach looks correct. -0.25\n",
    "import numpy as np\n",
    "import datetime  \n",
    "paymentmonths = [3,6,9,12]\n",
    "coupon = 500 \n",
    "\n",
    "years = [r for r in range(2022, 2031+1)]\n",
    "rates = [r for r in np.linspace(0.005,0.0023, 10)]   \n",
    "ratedict = {y:r for (y,r) in zip(years, rates)}\n",
    "\n",
    "t = datetime.date(2022,1,1)\n",
    "PV = 0\n",
    "discountfactor = 1\n",
    "while t <= datetime.date(2031,12,1) :\n",
    "    if (t.month in paymentmonths):   #loop month\n",
    "        PV += coupon*discountfactor\n",
    "    discountfactor *= 1/(1+ratedict[t.year])  #loop year\n",
    "    t = nextmonth(t)\n",
    "PV\n",
    "print(PV)\n",
    "print(rates)"
   ]
  },
  {
   "cell_type": "markdown",
   "metadata": {},
   "source": [
    "## Questions 4-5\n",
    "\n",
    "Companies often invest in training their employees to raise their\n",
    "productivity. Economists sometimes wonder why companies\n",
    "spend money on training employees when this incentivizes other companies to poach\n",
    "their employees with higher salaries since the employees gain human capital from training.\n",
    "\n",
    "Imagine it costs a company 30,000 dollars to teach their employees Python in January, but it also raises their output by 2,500 dollars per month from February on. The company discounts the future at rate of $ r = 0.01 $ per month."
   ]
  },
  {
   "cell_type": "markdown",
   "metadata": {},
   "source": [
    "### Question 4\n",
    "\n",
    "For how many full months does an employee need to stay at a company for that company to make a profit for paying for their employees’ Python training?"
   ]
  },
  {
   "cell_type": "code",
   "execution_count": 7,
   "metadata": {
    "hide-output": false,
    "scrolled": true
   },
   "outputs": [
    {
     "name": "stdout",
     "output_type": "stream",
     "text": [
      "30334.350181892645\n",
      "13\n"
     ]
    }
   ],
   "source": [
    "# Your code goes here\n",
    "total_npv=-30000\n",
    "r=0.01\n",
    "n_month=0\n",
    "while total_npv <=0:\n",
    "    n_month = n_month+1\n",
    "    total_npv=total_npv+(2500*((1/(1+r))**n_months))\n",
    "\n",
    "    \n",
    "## TA: You should count the first month when they're training too -0.25\n",
    "PV = 0\n",
    "fullmonths = 0\n",
    "r= 0.01\n",
    "coupon = 2500\n",
    "paymentmonths = range(1,13) \n",
    "while PV < 30000:\n",
    "    PV = presentvalue(coupon, r, begin, nextmonth(begin,fullmonths), paymentmonths)/(1+r) \n",
    "    fullmonths += 1\n",
    "print(PV)\n",
    "print(fullmonths)\n",
    "\n",
    "# need to stay at least 13 full month for PV to be greater than training cost\n",
    "\n",
    "def monthdiff(t_begin,t_end) :\n",
    "    \"\"\" \n",
    "    calculate the number of months between `t_begin` and `t_end`   \n",
    "    \"\"\"\n",
    "    return(12*(t_end.year-t_begin.year) + t_end.month-t_begin.month)\n",
    "\n",
    "def incmonth(t, inc = 1) : \n",
    "    \"\"\"\n",
    "    Add `inc` months to the datetime `t`.\n",
    "    \"\"\"\n",
    "    newmonth = ((t.month - 1 + inc) % 12) + 1\n",
    "    newyear = t.year + int((t.month - 1 + inc) / 12)\n",
    "    return(datetime.date(newyear, newmonth, t.day))\n",
    "\n",
    "def presentvalue(coupon, r1, begin, end, paymentmonths):\n",
    "    \"\"\"\n",
    "    Calculate the net present value of the bond with `payment` in \n",
    "    months `paymentmonths` from `begin` until `end` discounted by `r1`.\n",
    "    \"\"\"\n",
    "    t = begin\n",
    "    PV = 0\n",
    "    discountfactor = 1\n",
    "    while t<=end :\n",
    "        if (t.month in paymentmonths) :\n",
    "            PV += coupon * discountfactor\n",
    "        if isinstance(r1, dict) :\n",
    "            discountfactor /= (1+r1[t.year])\n",
    "        else :\n",
    "            discountfactor /= (1+r1)            \n",
    "        t = nextmonth(t)    \n",
    "    return(PV)"
   ]
  },
  {
   "cell_type": "markdown",
   "metadata": {},
   "source": [
    "### Question 5\n",
    "\n",
    "Imagine that 80% of the employees stay for 9 months and 20% of the employees stay\n",
    "for 15 months. Is it worth it for the company to invest in employee Python training?"
   ]
  },
  {
   "cell_type": "code",
   "execution_count": 11,
   "metadata": {
    "hide-output": false
   },
   "outputs": [
    {
     "name": "stdout",
     "output_type": "stream",
     "text": [
      "24064.561410598428\n"
     ]
    }
   ],
   "source": [
    "# Your code goes here\n",
    "# calculate the average PV \n",
    "begin = datetime.date(2022,1,1)\n",
    "end1 = datetime.date(2022,9,30)\n",
    "end2 = datetime.date(2023,3,31)\n",
    "increaseoutput = (0.8*presentvalue(coupon, r, begin,end1,paymentmonths)/(1+r) + \n",
    "0.2 *presentvalue(coupon, r, begin, end2, paymentmonths)/(1+r))\n",
    "\n",
    "\n",
    "# compare to the training cost\n",
    "print(increaseoutput)\n",
    "\n",
    "#trainingcost = 30000 > increaseoutput\n",
    "# so it is not worth invest in employee training \n"
   ]
  },
  {
   "cell_type": "code",
   "execution_count": null,
   "metadata": {},
   "outputs": [],
   "source": []
  }
 ],
 "metadata": {
  "date": 1627429658.1397057,
  "filename": "problem_set_2.md",
  "kernelspec": {
   "display_name": "Python 3",
   "language": "python",
   "name": "python3"
  },
  "language_info": {
   "codemirror_mode": {
    "name": "ipython",
    "version": 3
   },
   "file_extension": ".py",
   "mimetype": "text/x-python",
   "name": "python",
   "nbconvert_exporter": "python",
   "pygments_lexer": "ipython3",
   "version": "3.7.6"
  },
  "title": "Problem Set 2",
  "varInspector": {
   "cols": {
    "lenName": 16,
    "lenType": 16,
    "lenVar": 40
   },
   "kernels_config": {
    "python": {
     "delete_cmd_postfix": "",
     "delete_cmd_prefix": "del ",
     "library": "var_list.py",
     "varRefreshCmd": "print(var_dic_list())"
    },
    "r": {
     "delete_cmd_postfix": ") ",
     "delete_cmd_prefix": "rm(",
     "library": "var_list.r",
     "varRefreshCmd": "cat(var_dic_list()) "
    }
   },
   "types_to_exclude": [
    "module",
    "function",
    "builtin_function_or_method",
    "instance",
    "_Feature"
   ],
   "window_display": false
  }
 },
 "nbformat": 4,
 "nbformat_minor": 5
}
