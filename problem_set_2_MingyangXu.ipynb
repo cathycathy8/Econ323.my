{
 "cells": [
  {
   "cell_type": "markdown",
   "metadata": {},
   "source": [
    "# Problem Set 2\n",
    "\n",
    "Related lectures: [Control Flow](https://datascience.quantecon.org/../python_fundamentals/control_flow.html), [Functions](https://datascience.quantecon.org/../python_fundamentals/functions.html), and [Numpy](https://datascience.quantecon.org/../scientific/numpy_arrays.html)"
   ]
  },
  {
   "cell_type": "markdown",
   "metadata": {},
   "source": [
    "## Question 1\n",
    "For the tuple `foo` below, use a combination of `zip`, `range`, and `len` to mimic `enumerate(foo)`.\n",
    "\n",
    "Verify that your proposed solution is correct by converting each to a list and checking equality with `==`\n",
    "\n",
    "HINT: You can see what the answer should look like by starting with `list(enumerate(foo))`."
   ]
  },
  {
   "cell_type": "code",
   "execution_count": 1,
   "metadata": {},
   "outputs": [
    {
     "name": "stdout",
     "output_type": "stream",
     "text": [
      "range(0, 2)\n",
      "[0, 1]\n",
      "[(0, 'good'), (1, 'luck!')]\n"
     ]
    },
    {
     "data": {
      "text/plain": [
       "True"
      ]
     },
     "execution_count": 1,
     "metadata": {},
     "output_type": "execute_result"
    }
   ],
   "source": [
    "foo = (\"good\", \"luck!\")\n",
    "\n",
    "# Your code goes here\n",
    "\n",
    "# find the range of the tuple\n",
    "number = range(len(foo))\n",
    "print(number)\n",
    "\n",
    "# form a list of number within range\n",
    "n = list(number)\n",
    "print(n)\n",
    "\n",
    "# zip the number with the element in foo\n",
    "l = zip(n, foo)\n",
    "\n",
    "# return result \n",
    "result = list(l)\n",
    "print(result)\n",
    "\n",
    "#check if result mimic emumerate(foo)\n",
    "result == list(enumerate(foo))\n"
   ]
  },
  {
   "cell_type": "markdown",
   "metadata": {
    "tags": []
   },
   "source": [
    "## Question 2\n",
    "\n",
    "Write a for loop that uses the lists of cities and states to print a message saying `“{city} is in {state}”`, where `{city}` and `{state}` are replaced by different values on each iteration.  You are *not* allowed to use `zip`."
   ]
  },
  {
   "cell_type": "code",
   "execution_count": null,
   "metadata": {
    "hide-output": false
   },
   "outputs": [],
   "source": [
    "cities = [\"Phoenix\", \"Austin\", \"San Diego\", \"New York\"]\n",
    "states = [\"Arizona\", \"Texas\", \"California\", \"New York\"]\n",
    "\n",
    "# Your code here\n",
    "for i, city in enumerate(cities):\n",
    "    state = states[i]\n",
    "    print(f\"{city} is in {state}\")\n"
   ]
  },
  {
   "cell_type": "markdown",
   "metadata": {},
   "source": [
    "Now, do the same thing with a `for` loop using `zip`."
   ]
  },
  {
   "cell_type": "code",
   "execution_count": 2,
   "metadata": {
    "hide-output": false
   },
   "outputs": [
    {
     "name": "stdout",
     "output_type": "stream",
     "text": [
      "[('Phoenix', 'Arizona'), ('Austin', 'Texas'), ('San Diego', 'California'), ('New York', 'New York')]\n",
      "Phoenix is in Arizona\n",
      "Austin is in Texas\n",
      "San Diego is in California\n",
      "New York is in New York\n"
     ]
    }
   ],
   "source": [
    "cities = [\"Phoenix\", \"Austin\", \"San Diego\", \"New York\"]\n",
    "states = [\"Arizona\", \"Texas\", \"California\", \"New York\"]\n",
    "\n",
    "# Your code here\n",
    "# form a list of (city,state) pairs using zip\n",
    "p = list(zip(cities, states))\n",
    "print(p)\n",
    "\n",
    "for i in range(len(p)):\n",
    "    print(p[i][0], \"is in\", p[i][1])"
   ]
  },
  {
   "cell_type": "markdown",
   "metadata": {},
   "source": [
    "Write a function that takes in a tuple as `(city, state)` and returns a string  `“{city} is in {state}”` with the values substituted."
   ]
  },
  {
   "cell_type": "code",
   "execution_count": 3,
   "metadata": {
    "hide-output": false
   },
   "outputs": [
    {
     "name": "stdout",
     "output_type": "stream",
     "text": [
      "0\n",
      "Phoenix is in Arizona\n",
      "Austin is in Texas\n",
      "San Diego is in California\n",
      "New York is in New York\n"
     ]
    }
   ],
   "source": [
    "# Your function here\n",
    "import numpy as np\n",
    "# generate a random number i\n",
    "i = np.random.poisson()\n",
    "print(i)\n",
    "\n",
    "#def sentence():\n",
    "#    city = p[i][0]\n",
    "#    state = p[i][1]\n",
    "#    return print(city, \"is in\", state)\n",
    "#sentence()\n",
    "\n",
    "\n",
    "# You're technically using Zip but you should do something like this\n",
    "def sentence(city, state):\n",
    "    for city, state in list(zip(cities, states)):\n",
    "        print(f\"{city} is in {state}\")\n",
    "sentence(\"Phoenix\",\"Arizona\")\n",
    "\n",
    "# Also your function needs to take a tuple as an argument.\n"
   ]
  },
  {
   "cell_type": "markdown",
   "metadata": {},
   "source": [
    "## Question 3\n",
    "\n",
    "This exercise explores the concept of higher order functions, or functions\n",
    "that can be an input or output of another function.\n",
    "\n",
    "Below is code that implements a version of the generalized Cobb-Douglas production function which takes the form $ F(K, L) = z K^{\\alpha_1} L^{\\alpha_2} $.\n",
    "\n",
    "It takes as an argument `alpha_1`, `alpha_2`, and `z` and then\n",
    "*returns a function* that implements that parameterization of the\n",
    "Cobb-Douglas production function."
   ]
  },
  {
   "cell_type": "code",
   "execution_count": 5,
   "metadata": {
    "hide-output": false
   },
   "outputs": [],
   "source": [
    "def cobb_douglas_factory(alpha_1, alpha_2, z=1.0):\n",
    "    \"\"\"\n",
    "    Return a function F(K, L) that implements the generalized Cobb-Douglas\n",
    "    production function with parameters alpha_1, alpha_2, and z\n",
    "\n",
    "    The returned function takes the form F(K, L) = z K^{\\alpha_1} L^{\\alpha_2}\n",
    "    \"\"\"\n",
    "    # I'm defining a function inside a function\n",
    "    def return_func(K, L):\n",
    "        return z * K**alpha_1 * L**alpha_2\n",
    "\n",
    "    # Notice I'm returning a function! :mind_blown:\n",
    "    return return_func"
   ]
  },
  {
   "cell_type": "markdown",
   "metadata": {},
   "source": [
    "We can use this function in two steps:\n",
    "\n",
    "1. Call it with `alpha_1`, `alpha_2`, and `z` and get a function in return.  \n",
    "1. Call the returned function with values of `K` and `L`.  \n",
    "\n",
    "\n",
    "Here’s how we would repeat the first Cobb-Douglas example from above:"
   ]
  },
  {
   "cell_type": "code",
   "execution_count": 6,
   "metadata": {
    "hide-output": false
   },
   "outputs": [
    {
     "data": {
      "text/plain": [
       "0.6285066872609142"
      ]
     },
     "execution_count": 6,
     "metadata": {},
     "output_type": "execute_result"
    }
   ],
   "source": [
    "# step 1\n",
    "F2 = cobb_douglas_factory(0.33, 1-0.33)\n",
    "# step 2\n",
    "F2(1.0, 0.5)\n"
   ]
  },
  {
   "cell_type": "markdown",
   "metadata": {},
   "source": [
    "Now, it is your turn…\n",
    "\n",
    "Re-write the `returns_to_scale` function above as we had in [Functions](https://datascience.quantecon.org/../python_fundamentals/functions.html) to accept an additional argument\n",
    "`F` that represents a production function. The function should take in `K` and `L`\n",
    "and return output.\n",
    "\n",
    "We’ve written some code below to get you started."
   ]
  },
  {
   "cell_type": "code",
   "execution_count": 7,
   "metadata": {
    "hide-output": false
   },
   "outputs": [
    {
     "name": "stdout",
     "output_type": "stream",
     "text": [
      "1.0\n"
     ]
    }
   ],
   "source": [
    "def returns_to_scale2(F, K, L, gamma): \n",
    "    # Y0 is the initial out with L and K\n",
    "    Y0 = F(K, L)\n",
    "    # Y1 is the new output scale K and L by gamma\n",
    "    Y1= F(gamma * K, gamma * L)\n",
    "    # y is the output ratio\n",
    "    y = Y1/Y0\n",
    "    # compute returns to scale as percentage of output change relative to input change \n",
    "    return y/gamma\n",
    "# test new function using the original F2\n",
    "solution1 = returns_to_scale2(F2, 1.0, 0.5, 2) \n",
    "\n",
    "print(solution1)\n"
   ]
  },
  {
   "cell_type": "markdown",
   "metadata": {},
   "source": [
    "Test out your new function using the original `F2` that we defined above and\n",
    "using the `cobb_douglas` function defined earlier in the lecture. You can use\n",
    "similar sets of values to what we used in class for `K` and `L`.\n",
    "\n",
    "Do you get the same answer?"
   ]
  },
  {
   "cell_type": "code",
   "execution_count": 8,
   "metadata": {},
   "outputs": [
    {
     "name": "stdout",
     "output_type": "stream",
     "text": [
      "1.0\n"
     ]
    },
    {
     "data": {
      "text/plain": [
       "True"
      ]
     },
     "execution_count": 8,
     "metadata": {},
     "output_type": "execute_result"
    }
   ],
   "source": [
    "# test new function using cobb_douglas function \n",
    "def cobb_douglas(K, L):\n",
    "    # Create alpha and z\n",
    "    z = 1\n",
    "    alpha = 0.33\n",
    "\n",
    "    return z * K**alpha * L**(1 - alpha)\n",
    "\n",
    "Y0_cd = cobb_douglas(1.0, 0.5)\n",
    "Y1_cd = cobb_douglas(1.0*2, 0.5*2)\n",
    "y_cd = Y1_cd/Y0_cd # y_cd is the output ratio \n",
    "\n",
    "solution2 = return_to_scale_cd = (y_cd/2)\n",
    "print(solution2)\n",
    "\n",
    "# test if they give same result \n",
    "solution2==solution1"
   ]
  },
  {
   "cell_type": "markdown",
   "metadata": {},
   "source": [
    "## Question 4\n",
    "\n",
    "Let’s use our `cobb_douglas_factory` and `returns_to_scale2` functions\n",
    "to study returns to scale.\n",
    "\n",
    "What are the returns to scale when you set `alpha_1 = 0.3` and `alpha_2 = 0.6`?"
   ]
  },
  {
   "cell_type": "code",
   "execution_count": 9,
   "metadata": {
    "hide-output": false
   },
   "outputs": [
    {
     "data": {
      "text/plain": [
       "0.9330329915368075"
      ]
     },
     "execution_count": 9,
     "metadata": {},
     "output_type": "execute_result"
    }
   ],
   "source": [
    "# test with alpha_1 = 0.3 and alpha_2 = 0.6\n",
    "F3 = cobb_douglas_factory(0.3, 0.6)\n",
    "returns_to_scale2(F3, 1.0, 0.5, 2)"
   ]
  },
  {
   "cell_type": "markdown",
   "metadata": {},
   "source": [
    "What about when you use `alpha_1 = 0.4` and `alpha_2 = 0.65`?"
   ]
  },
  {
   "cell_type": "code",
   "execution_count": 10,
   "metadata": {
    "hide-output": false
   },
   "outputs": [
    {
     "data": {
      "text/plain": [
       "1.0352649238413774"
      ]
     },
     "execution_count": 10,
     "metadata": {},
     "output_type": "execute_result"
    }
   ],
   "source": [
    "# test with alpha_1 = 0.4 and alpha_2 = 0.65\n",
    "F4 = cobb_douglas_factory(0.4, 0.65)\n",
    "returns_to_scale2(F4, 1.0, 0.5, 2)"
   ]
  },
  {
   "cell_type": "markdown",
   "metadata": {},
   "source": [
    "What do returns to scale have to do with the quantity $ \\alpha_1 + \\alpha_2 $? When will returns to scale be greater or less than 1?"
   ]
  },
  {
   "cell_type": "code",
   "execution_count": 21,
   "metadata": {
    "hide-output": false
   },
   "outputs": [
    {
     "name": "stdout",
     "output_type": "stream",
     "text": [
      "Returns to scale is equal to 1(constant) when alpha1 + alpha2 = 1 Returns to scale is greater than 1(increasing) when alpha1 + alpha2 > 1 Returns to scale is less than 1(decreasing) when alpha1 + alpha2 < 1\n"
     ]
    }
   ],
   "source": [
    "# your code here (optional)\n",
    "print(\"Returns to scale is equal to 1(constant) when alpha1 + alpha2 = 1\",\n",
    "      \"Returns to scale is greater than 1(increasing) when alpha1 + alpha2 > 1\", \n",
    "      \"Returns to scale is less than 1(decreasing) when alpha1 + alpha2 < 1\")"
   ]
  },
  {
   "cell_type": "markdown",
   "metadata": {},
   "source": []
  },
  {
   "cell_type": "markdown",
   "metadata": {},
   "source": [
    "## Question 5\n",
    "\n",
    "Take a production function of only labor, `L`, with the following form\n",
    "\n",
    "$$\n",
    "f(L) = \\begin{cases} L^2 & \\text{ for } L \\in [0, 1)\\\\\n",
    "                    \\sqrt{L} & \\text{ for } L \\in [1, 2]\n",
    "        \\end{cases}\n",
    "$$\n",
    "\n",
    "Write a function to calculate the marginal product of labor (MPL) numerically by using a method similar to what we did in class."
   ]
  },
  {
   "cell_type": "code",
   "execution_count": 12,
   "metadata": {
    "hide-output": false
   },
   "outputs": [
    {
     "data": {
      "text/plain": [
       "0.49998750062396624"
      ]
     },
     "execution_count": 12,
     "metadata": {},
     "output_type": "execute_result"
    }
   ],
   "source": [
    "# your code here\n",
    "import numpy as np\n",
    "\n",
    "def funcL(L):\n",
    "    if 0 <= L and L < 1:\n",
    "        return(L**2)\n",
    "    elif L <= 2:\n",
    "        return(np.sqrt(L))\n",
    "\n",
    "# by the definition of the marginal product of labor\n",
    "def MPL(L, epsilon):\n",
    "    return ((funcL(L + epsilon))- funcL(L))/ epsilon\n",
    "\n",
    "# for example take epsilon as an infitisimal number 1e-4 and L=1\n",
    "MPL(1, 1e-4) "
   ]
  },
  {
   "cell_type": "markdown",
   "metadata": {},
   "source": [
    "Plot the MPL for $ L \\in [0,2] $  (you can choose some sort of grid over those numbers with `np.linspace`)."
   ]
  },
  {
   "cell_type": "code",
   "execution_count": 13,
   "metadata": {
    "hide-output": false
   },
   "outputs": [
    {
     "data": {
      "text/plain": [
       "Text(0, 0.5, 'MPL')"
      ]
     },
     "execution_count": 13,
     "metadata": {},
     "output_type": "execute_result"
    },
    {
     "data": {
      "image/png": "[encoded data removed]",
      "text/plain": [
       "<Figure size 432x288 with 1 Axes>"
      ]
     },
     "metadata": {
      "needs_background": "light"
     },
     "output_type": "display_data"
    }
   ],
   "source": [
    "# your code here\n",
    "import matplotlib.pyplot as plt\n",
    "fig, ax = plt.subplots()\n",
    "\n",
    "x = np.linspace(0, 2-1e-4)\n",
    "y = []\n",
    "for i in x:\n",
    "    y.append(MPL(i, 1e-4))\n",
    "\n",
    "# plot MPL for 𝐿∈[0,2]\n",
    "ax.plot(x, y)\n",
    "ax.set_xlabel(\"L\")\n",
    "ax.set_ylabel(\"MPL\")\n",
    "\n"
   ]
  },
  {
   "cell_type": "markdown",
   "metadata": {},
   "source": [
    "Consider the scenario where you increase the scale of production by a factor of 10 percent more labor. Plot the returns to scale for a grid on $ L \\in [0, 1.5] $.\n",
    "*Hint:* For this, you may need to write your own version of the `returns_to_scale` function specific to this production function or carefully use the one above. Either way of implementation is fine."
   ]
  },
  {
   "cell_type": "code",
   "execution_count": 14,
   "metadata": {
    "hide-output": false
   },
   "outputs": [
    {
     "name": "stderr",
     "output_type": "stream",
     "text": [
      "/opt/anaconda3/lib/python3.7/site-packages/ipykernel_launcher.py:16: RuntimeWarning: invalid value encountered in double_scalars\n",
      "  app.launch_new_instance()\n"
     ]
    },
    {
     "data": {
      "text/plain": [
       "Text(0, 0.5, 'returns_to_scale')"
      ]
     },
     "execution_count": 14,
     "metadata": {},
     "output_type": "execute_result"
    },
    {
     "data": {
      "image/png": "[encoded data removed]",
      "text/plain": [
       "<Figure size 432x288 with 1 Axes>"
      ]
     },
     "metadata": {
      "needs_background": "light"
     },
     "output_type": "display_data"
    }
   ],
   "source": [
    "# your code here\n",
    "def funcL1(L):\n",
    "    if 0 < L and L <= 1:\n",
    "        result = L**2\n",
    "    elif L <= 1.5:\n",
    "        result = np.sqrt(L)\n",
    "    return result\n",
    "\n",
    "# compute returns to scale as percentage of production change relative to input(L) change \n",
    "def returns_to_scale(L, gamma):\n",
    "    fl1 = funcL1(L)\n",
    "    if 0 < L and L <= 1:\n",
    "        fl2 = (L*gamma)**2\n",
    "    elif L <= 1.5:\n",
    "        fl2 = np.sqrt(gamma*L)\n",
    "    return (fl2/fl1)/gamma\n",
    "\n",
    "\n",
    "import numpy as np\n",
    "import matplotlib.pyplot as plt\n",
    "fig, ax = plt.subplots()\n",
    "\n",
    "x = np.linspace(0, 1.5)\n",
    "y = []\n",
    "\n",
    "# gamma =1.1 if increase the scale by 10 percent more labor\n",
    "for i in x:\n",
    "    y.append(returns_to_scale(i, 1.1))\n",
    "\n",
    "# plot returns_to_scale for 𝐿∈[0,1.5]\n",
    "ax.plot(x, y)\n",
    "ax.set_xlabel(\"L\")\n",
    "ax.set_ylabel(\"returns_to_scale\")\n",
    "\n"
   ]
  },
  {
   "cell_type": "markdown",
   "metadata": {},
   "source": [
    "Compare these returns to the scale of the Cobb-Douglas functions we have worked with.\n",
    "#### In this production function, it is increasing returns to scale when f(L) = L**2 and it is decreasing return to scale when f(L) = L**0.5. \n",
    "#### In each interval, the returns to scale is constant because it doesn't change when L changes.\n",
    "#### In this question, the returns to scale follows the rule we have discovered in the previous question."
   ]
  },
  {
   "cell_type": "markdown",
   "metadata": {},
   "source": [
    "## Question 6\n",
    "\n",
    "Define a function that takes as input a list $y$ *of arbitrary length* that contains the monthly returns of an asset, (where each element in the list represents the returns in that month) along with a keyword argument for your monthly discount rate with the default value $r=0.05$, and returns the present daily value of the asset.\n",
    "\n",
    "*Hint: since you don't know the length of the list $y$, you should check that first.*"
   ]
  },
  {
   "cell_type": "code",
   "execution_count": 15,
   "metadata": {
    "hide-output": false
   },
   "outputs": [],
   "source": [
    "# Your code goes here\n",
    "\n",
    "# define a function that calculate net present value using the sum of discounted cash flow\n",
    "def NPV(y, r = 0.05):\n",
    "    DCFs = [y[i]/(1+r)**i for i in range(len(y))]\n",
    "    return print(sum(DCFs))\n",
    "\n",
    "# alternative method: assign a initial value to present_value and then using +=\n",
    "def present_value(y, r = 0.05):\n",
    "    present_value = 0\n",
    "    for i in range(len(y)):\n",
    "        present_value += y[i]/(1+r)**i\n",
    "    return present_value"
   ]
  },
  {
   "cell_type": "markdown",
   "metadata": {},
   "source": [
    "Use your function to answer the following question:\n",
    "\n",
    "If you had a monthly discount factor of $r=0.1$, what is the most that you should pay for an asset that pays dividends of: \\$1 immediately when purchasing, $10 after the first month, \\$14 after the second month, \\$18 after three months, and finally \\$100 after six months?\n",
    "\n",
    "*Hint: create a list that contains the returns of your asset, and use it as an input to your function. Remember to change the discount factor.*"
   ]
  },
  {
   "cell_type": "code",
   "execution_count": 16,
   "metadata": {},
   "outputs": [
    {
     "name": "stdout",
     "output_type": "stream",
     "text": [
      "7\n",
      "91.6322164463995\n"
     ]
    },
    {
     "data": {
      "text/plain": [
       "91.6322164463995"
      ]
     },
     "execution_count": 16,
     "metadata": {},
     "output_type": "execute_result"
    }
   ],
   "source": [
    "# your code here\n",
    "\n",
    "# a list that contains the returns of asset\n",
    "y1 = [1,10,14,18,0,0,100]\n",
    "\n",
    "print(len(y1))\n",
    "NPV(y1, r = 0.1)\n",
    "present_value(y1, r = 0.1)\n"
   ]
  },
  {
   "cell_type": "code",
   "execution_count": null,
   "metadata": {},
   "outputs": [],
   "source": []
  }
 ],
 "metadata": {
  "date": 1627429658.1807241,
  "filename": "problem_set_3.md",
  "kernelspec": {
   "display_name": "Python 3",
   "language": "python",
   "name": "python3"
  },
  "language_info": {
   "codemirror_mode": {
    "name": "ipython",
    "version": 3
   },
   "file_extension": ".py",
   "mimetype": "text/x-python",
   "name": "python",
   "nbconvert_exporter": "python",
   "pygments_lexer": "ipython3",
   "version": "3.7.6"
  },
  "title": "Problem Set 3",
  "varInspector": {
   "cols": {
    "lenName": 16,
    "lenType": 16,
    "lenVar": 40
   },
   "kernels_config": {
    "python": {
     "delete_cmd_postfix": "",
     "delete_cmd_prefix": "del ",
     "library": "var_list.py",
     "varRefreshCmd": "print(var_dic_list())"
    },
    "r": {
     "delete_cmd_postfix": ") ",
     "delete_cmd_prefix": "rm(",
     "library": "var_list.r",
     "varRefreshCmd": "cat(var_dic_list()) "
    }
   },
   "types_to_exclude": [
    "module",
    "function",
    "builtin_function_or_method",
    "instance",
    "_Feature"
   ],
   "window_display": false
  }
 },
 "nbformat": 4,
 "nbformat_minor": 5
}
